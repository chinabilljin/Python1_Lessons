{
  "nbformat": 4,
  "nbformat_minor": 0,
  "metadata": {
    "colab": {
      "provenance": [],
      "authorship_tag": "ABX9TyO//zrj2CTCrT6wpTXVw2z+",
      "include_colab_link": true
    },
    "kernelspec": {
      "name": "python3",
      "display_name": "Python 3"
    },
    "language_info": {
      "name": "python"
    }
  },
  "cells": [
    {
      "cell_type": "markdown",
      "metadata": {
        "id": "view-in-github",
        "colab_type": "text"
      },
      "source": [
        "<a href=\"https://colab.research.google.com/github/chinabilljin/Python1_Lessons/blob/main/Lesson13.ipynb\" target=\"_parent\"><img src=\"https://colab.research.google.com/assets/colab-badge.svg\" alt=\"Open In Colab\"/></a>"
      ]
    },
    {
      "cell_type": "code",
      "source": [
        "import matplotlib\n",
        "print(matplotlib.__version__)"
      ],
      "metadata": {
        "id": "qmuaPaCfu8Ei"
      },
      "execution_count": null,
      "outputs": []
    },
    {
      "cell_type": "code",
      "source": [
        "import matplotlib.pyplot as plt\n",
        "import numpy as np\n",
        "\n",
        "xpoints = np.array([0, 6])\n",
        "ypoints = np.array([0, 250])\n",
        "\n",
        "plt.plot(xpoints, ypoints)\n",
        "plt.show()"
      ],
      "metadata": {
        "id": "2j1u3Z8vv2Y6"
      },
      "execution_count": null,
      "outputs": []
    },
    {
      "cell_type": "code",
      "source": [
        "import matplotlib.pyplot as plt\n",
        "import numpy as np\n",
        "\n",
        "xpoints = range(-10,11)\n",
        "ypoints = [i*i for i in xpoints]\n",
        "\n",
        "plt.plot(xpoints, ypoints, 'o')\n",
        "plt.show()"
      ],
      "metadata": {
        "id": "l-2jMuKazGaN"
      },
      "execution_count": null,
      "outputs": []
    },
    {
      "cell_type": "code",
      "source": [
        "import matplotlib.pyplot as plt\n",
        "import numpy as np\n",
        "\n",
        "xpoints = range(-10,11)\n",
        "ypoints = [i*i for i in xpoints]\n",
        "\n",
        "plt.plot(xpoints, ypoints, marker='o', linestyle = 'dotted', color='r')\n",
        "plt.show()"
      ],
      "metadata": {
        "id": "HFJz0sPF4ViC"
      },
      "execution_count": null,
      "outputs": []
    },
    {
      "cell_type": "code",
      "source": [
        "import matplotlib.pyplot as plt\n",
        "import numpy as np\n",
        "\n",
        "xpoints = range(-10,11)\n",
        "ypoints = [i*i for i in xpoints]\n",
        "y2points = [100-i*i for i in xpoints]\n",
        "\n",
        "plt.plot(xpoints, ypoints, marker='o', linestyle = 'dotted', color='r')\n",
        "plt.plot(xpoints, y2points, marker='o', linestyle = 'solid', color='b')\n",
        "plt.show()"
      ],
      "metadata": {
        "id": "vnxWtjxJ6RVk"
      },
      "execution_count": null,
      "outputs": []
    },
    {
      "cell_type": "code",
      "source": [
        "import matplotlib.pyplot as plt\n",
        "import numpy as np\n",
        "\n",
        "xpoints = range(-10,11)\n",
        "ypoints = [i*i for i in xpoints]\n",
        "y2points = [100-i*i for i in xpoints]\n",
        "\n",
        "plt.title(\"y=x^2\")\n",
        "plt.xlabel(\"x axis\")\n",
        "plt.ylabel(\"y axis\")\n",
        "\n",
        "plt.plot(xpoints, ypoints, marker='o', linestyle = 'dotted', color='r')\n",
        "plt.plot(xpoints, y2points, marker='o', linestyle = 'solid', color='b')\n",
        "plt.show()"
      ],
      "metadata": {
        "id": "nbjkFuup811-"
      },
      "execution_count": null,
      "outputs": []
    },
    {
      "cell_type": "code",
      "source": [
        "import matplotlib.pyplot as plt\n",
        "import numpy as np\n",
        "\n",
        "xpoints = range(-10,11)\n",
        "ypoints = [i*i for i in xpoints]\n",
        "y2points = [100-i*i for i in xpoints]\n",
        "\n",
        "plt.title(\"y=x^2\")\n",
        "plt.xlabel(\"x axis\")\n",
        "plt.ylabel(\"y axis\")\n",
        "\n",
        "plt.plot(xpoints, ypoints, marker='o', linestyle = 'dotted', color='r')\n",
        "plt.plot(xpoints, y2points, marker='o', linestyle = 'solid', color='b')\n",
        "plt.grid()\n",
        "plt.show()"
      ],
      "metadata": {
        "id": "rr74mbtC9jm8"
      },
      "execution_count": null,
      "outputs": []
    },
    {
      "cell_type": "code",
      "execution_count": null,
      "metadata": {
        "id": "cYEXjJ8NEsg8"
      },
      "outputs": [],
      "source": [
        "import matplotlib\n",
        "import matplotlib.pyplot as plt\n",
        "import numpy as np\n",
        "print(matplotlib.__version__)\n",
        "\n",
        "xpoints = np.array([0, 6])\n",
        "ypoints = np.array([0, 250])\n",
        "\n",
        "plt.subplot(1, 2, 1)\n",
        "plt.plot(xpoints, ypoints)\n",
        "plt.title(\"PLT\")\n",
        "plt.grid()\n",
        "plt.subplot(1, 2, 2)\n",
        "plt.plot( xpoints, list(reversed(ypoints)))\n",
        "plt.title(\"PLT Reverse\")\n",
        "plt.xlabel(\"X axis\")\n",
        "plt.ylabel(\"Y axis\")\n",
        "plt.grid()\n",
        "\n",
        "plt.show()\n",
        "\n"
      ]
    },
    {
      "cell_type": "code",
      "source": [
        "import matplotlib.pyplot as plt\n",
        "import numpy as np\n",
        "\n",
        "x = np.array([5,7,8,7,2,17,2,9,4,11,12,9,6])\n",
        "y = np.array([99,86,87,88,111,86,103,87,94,78,77,85,86])\n",
        "\n",
        "plt.scatter(x, y)\n",
        "plt.show()"
      ],
      "metadata": {
        "id": "iPT5UURH-ggY"
      },
      "execution_count": null,
      "outputs": []
    },
    {
      "cell_type": "code",
      "source": [
        "import matplotlib.pyplot as plt\n",
        "import numpy as np\n",
        "\n",
        "#day one, the age and speed of 13 cars:\n",
        "x = np.array([5,7,8,7,2,17,2,9,4,11,12,9,6])\n",
        "y = np.array([99,86,87,88,111,86,103,87,94,78,77,85,86])\n",
        "plt.scatter(x, y)\n",
        "\n",
        "#day two, the age and speed of 15 cars:\n",
        "x = np.array([2,2,8,1,15,8,12,9,7,3,11,4,7,14,12])\n",
        "y = np.array([100,105,84,105,90,99,90,95,94,100,79,112,91,80,85])\n",
        "plt.scatter(x, y)\n",
        "\n",
        "plt.show()"
      ],
      "metadata": {
        "id": "6vbyWr2y-3gv"
      },
      "execution_count": null,
      "outputs": []
    },
    {
      "cell_type": "code",
      "source": [
        "import matplotlib.pyplot as plt\n",
        "import numpy as np\n",
        "\n",
        "x = np.array([\"A\", \"B\", \"C\", \"D\"])\n",
        "y = np.array([3, 8, 1, 10])\n",
        "\n",
        "plt.bar(x,y)\n",
        "plt.show()"
      ],
      "metadata": {
        "id": "ocX5bB4q_UVy"
      },
      "execution_count": null,
      "outputs": []
    },
    {
      "cell_type": "code",
      "source": [
        "import matplotlib.pyplot as plt\n",
        "import numpy as np\n",
        "\n",
        "x = np.random.normal(170, 10, 250)\n",
        "\n",
        "plt.hist(x)\n",
        "plt.show()"
      ],
      "metadata": {
        "id": "qsQ8Dy_-_sKz"
      },
      "execution_count": null,
      "outputs": []
    },
    {
      "cell_type": "code",
      "source": [
        "import matplotlib.pyplot as plt\n",
        "import numpy as np\n",
        "\n",
        "y = np.array([35, 25, 25, 15])\n",
        "\n",
        "plt.pie(y)\n",
        "plt.show()"
      ],
      "metadata": {
        "id": "9wwFk55rA5Np"
      },
      "execution_count": null,
      "outputs": []
    }
  ]
}